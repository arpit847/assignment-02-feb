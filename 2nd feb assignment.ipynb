{
 "cells": [
  {
   "cell_type": "markdown",
   "id": "ec466fb4-ad00-4e44-bbc3-b1bcbd1bb417",
   "metadata": {},
   "source": [
    "1. Tuples consume less memory,ordered and can contain duplicates values\n",
    "Tuples are immutable as it doesnt allow a user to change any value of a particular index.Wherea in case of lists we can change the values.\n"
   ]
  },
  {
   "cell_type": "markdown",
   "id": "9c0e059e-3bec-4685-86d8-2be6aef67509",
   "metadata": {},
   "source": [
    "methods of tuple are count() and index()\n"
   ]
  },
  {
   "cell_type": "code",
   "execution_count": 10,
   "id": "1f550406-702a-4939-b0b0-7c197b6a220b",
   "metadata": {},
   "outputs": [
    {
     "data": {
      "text/plain": [
       "3"
      ]
     },
     "execution_count": 10,
     "metadata": {},
     "output_type": "execute_result"
    }
   ],
   "source": [
    "t=(1,2,2,3,4,5,6,3,2)\n",
    "t.index(2)\n",
    "t.count(2)"
   ]
  },
  {
   "cell_type": "markdown",
   "id": "ecce9499-dd7d-4c08-8223-7af7f4b58e19",
   "metadata": {},
   "source": [
    "set data type cannt llow duplicates values"
   ]
  },
  {
   "cell_type": "code",
   "execution_count": 12,
   "id": "0763e924-7751-44fd-8f8a-d2a4b809d1df",
   "metadata": {},
   "outputs": [
    {
     "name": "stdout",
     "output_type": "stream",
     "text": [
      "{1, 2, 3, 4}\n"
     ]
    }
   ],
   "source": [
    "List = [1, 1, 1, 2, 1, 3, 1, 4, 2, 1, 2, 2, 2, 3, 2, 4, 3, 1, 3, 2, 3, 3, 3, 4, 4, 1, 4, 2, 4, 3, 4, 4]\n",
    "set1=set(List)\n",
    "print(set1)"
   ]
  },
  {
   "cell_type": "code",
   "execution_count": 16,
   "id": "655687c0-b734-418d-8752-a9eb22cd902b",
   "metadata": {},
   "outputs": [
    {
     "name": "stdout",
     "output_type": "stream",
     "text": [
      "{1, 2, 3, 4, 5}\n"
     ]
    }
   ],
   "source": [
    "s1={1,2,3}\n",
    "s2={3,4,5}\n",
    "s3=s1.union(s2)\n",
    "print(s3)"
   ]
  },
  {
   "cell_type": "code",
   "execution_count": 19,
   "id": "698a56dd-3741-44ce-b273-e5e0368c8caa",
   "metadata": {},
   "outputs": [
    {
     "name": "stdout",
     "output_type": "stream",
     "text": [
      "{1, 2, 3, 4, 5, 6}\n"
     ]
    }
   ],
   "source": [
    "s1={1,2,3}\n",
    "s2={4,5,6}\n",
    "s3=s1.update(s2)\n",
    "print(s1)"
   ]
  },
  {
   "cell_type": "markdown",
   "id": "0e67f299-cd0c-4ff0-94aa-eb2c9daf93a9",
   "metadata": {},
   "source": [
    "dictionary  is a collection of key-value pairs. The dictionary keys must be unique.Dictionary isorered as it doesnt have duplicityin it."
   ]
  },
  {
   "cell_type": "code",
   "execution_count": 20,
   "id": "1f4461d6-263c-4372-bc69-a77518fb088e",
   "metadata": {},
   "outputs": [],
   "source": [
    "d1 = {\"name\" : \"arpit\" , \"City\" : \"chandigarh\" , \"number\" :84756}"
   ]
  },
  {
   "cell_type": "code",
   "execution_count": 21,
   "id": "b6bdf72e-c589-41bc-b6a8-d1dfa9588070",
   "metadata": {},
   "outputs": [
    {
     "data": {
      "text/plain": [
       "{'name': 'arpit', 'City': 'chandigarh', 'number': 84756}"
      ]
     },
     "execution_count": 21,
     "metadata": {},
     "output_type": "execute_result"
    }
   ],
   "source": [
    "d1"
   ]
  },
  {
   "cell_type": "code",
   "execution_count": 29,
   "id": "772e0e7b-1871-487a-89e9-30e8c9d76474",
   "metadata": {},
   "outputs": [
    {
     "name": "stdout",
     "output_type": "stream",
     "text": [
      "{'language': 'Python', 'course': 'Data Science Masters', 'topic': ['Python', 'Machine Learning', 'Deep Learning']}\n"
     ]
    }
   ],
   "source": [
    "dict1 = {'language': 'Python', 'course': 'Data Science Masters'}\n",
    "topics_list = ['Python', 'Machine Learning', 'Deep Learning']\n",
    "\n",
    "dict1.setdefault('topic', topics_list)\n",
    "\n",
    "print(dict1)"
   ]
  },
  {
   "cell_type": "code",
   "execution_count": 31,
   "id": "eaaed762-5079-4916-8c4d-03341fd0832a",
   "metadata": {},
   "outputs": [
    {
     "name": "stdout",
     "output_type": "stream",
     "text": [
      "keys_view: dict_keys(['Sport', 'Teams'])\n",
      "values_view: dict_values(['Cricket', ['India', 'Australia', 'England', 'South Africa', 'Sri Lanka', 'New Zealand']])\n",
      "items_view: dict_items([('Sport', 'Cricket'), ('Teams', ['India', 'Australia', 'England', 'South Africa', 'Sri Lanka', 'New Zealand'])])\n"
     ]
    }
   ],
   "source": [
    "dict1 = {'Sport': 'Cricket', 'Teams': ['India', 'Australia', 'England', 'South Africa', 'Sri Lanka', 'New Zealand']}\n",
    "keys_view = dict1.keys()\n",
    "values_view = dict1.values()\n",
    "items_view = dict1.items()\n",
    "print(\"keys_view:\", keys_view)\n",
    "print(\"values_view:\", values_view)\n",
    "print(\"items_view:\", items_view)"
   ]
  },
  {
   "cell_type": "markdown",
   "id": "03a93201-8224-4b7a-b352-8bc0cbe4e932",
   "metadata": {},
   "source": [
    "dict.keys() - returns a view object containing the keys of the dictionary\n",
    "dict.values() - returns a view object containing the values of the dictionary\n",
    "dict.items() - returns a view object containing the key-value pairs of the dictionary as tuples"
   ]
  }
 ],
 "metadata": {
  "kernelspec": {
   "display_name": "Python 3 (ipykernel)",
   "language": "python",
   "name": "python3"
  },
  "language_info": {
   "codemirror_mode": {
    "name": "ipython",
    "version": 3
   },
   "file_extension": ".py",
   "mimetype": "text/x-python",
   "name": "python",
   "nbconvert_exporter": "python",
   "pygments_lexer": "ipython3",
   "version": "3.10.8"
  }
 },
 "nbformat": 4,
 "nbformat_minor": 5
}
